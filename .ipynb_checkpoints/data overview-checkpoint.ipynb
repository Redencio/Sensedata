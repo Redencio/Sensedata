{
 "metadata": {
  "name": "",
  "signature": "sha256:899050de46077b6abe356daf20bb871e288939acedc4fac89b57d25364c116eb"
 },
 "nbformat": 3,
 "nbformat_minor": 0,
 "worksheets": []
}