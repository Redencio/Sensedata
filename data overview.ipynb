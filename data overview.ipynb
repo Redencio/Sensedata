{
 "metadata": {
  "name": "",
  "signature": "sha256:7ae13b1e44bd09b1449599804ba9458719cd7009e6478a59a5e1e8736e034c69"
 },
 "nbformat": 3,
 "nbformat_minor": 0,
 "worksheets": [
  {
   "cells": [
    {
     "cell_type": "code",
     "collapsed": false,
     "input": [
      "import pandas, pylab"
     ],
     "language": "python",
     "metadata": {},
     "outputs": [],
     "prompt_number": 2
    },
    {
     "cell_type": "code",
     "collapsed": false,
     "input": [
      "col = pandas.read_csv('jittShimm.csv')"
     ],
     "language": "python",
     "metadata": {},
     "outputs": [],
     "prompt_number": 3
    },
    {
     "cell_type": "code",
     "collapsed": false,
     "input": [
      "boxplot([col['jitt1']])"
     ],
     "language": "python",
     "metadata": {},
     "outputs": [
      {
       "metadata": {},
       "output_type": "pyout",
       "prompt_number": 4,
       "text": [
        "{'boxes': [<matplotlib.lines.Line2D at 0x4e75e50>],\n",
        " 'caps': [<matplotlib.lines.Line2D at 0x4e75690>,\n",
        "  <matplotlib.lines.Line2D at 0x4e75a70>],\n",
        " 'fliers': [<matplotlib.lines.Line2D at 0x4e7c630>,\n",
        "  <matplotlib.lines.Line2D at 0x4e7ca10>],\n",
        " 'medians': [<matplotlib.lines.Line2D at 0x4e7c250>],\n",
        " 'whiskers': [<matplotlib.lines.Line2D at 0x4e75090>,\n",
        "  <matplotlib.lines.Line2D at 0x4e75270>]}"
       ]
      },
      {
       "metadata": {},
       "output_type": "display_data",
       "png": "[encoded data removed]",
       "text": [
        "<matplotlib.figure.Figure at 0x4100e90>"
       ]
      }
     ],
     "prompt_number": 4
    },
    {
     "cell_type": "code",
     "collapsed": false,
     "input": [
      "boxplot([col['jitt1'], col['jitt1'], col['jitt1']], 0, 'rs', 0)"
     ],
     "language": "python",
     "metadata": {},
     "outputs": [
      {
       "metadata": {},
       "output_type": "pyout",
       "prompt_number": 5,
       "text": [
        "{'boxes': [<matplotlib.lines.Line2D at 0x5272d90>,\n",
        "  <matplotlib.lines.Line2D at 0x5280cb0>,\n",
        "  <matplotlib.lines.Line2D at 0x5290bb0>],\n",
        " 'caps': [<matplotlib.lines.Line2D at 0x52725d0>,\n",
        "  <matplotlib.lines.Line2D at 0x52729b0>,\n",
        "  <matplotlib.lines.Line2D at 0x52804f0>,\n",
        "  <matplotlib.lines.Line2D at 0x52808d0>,\n",
        "  <matplotlib.lines.Line2D at 0x52903f0>,\n",
        "  <matplotlib.lines.Line2D at 0x52907d0>],\n",
        " 'fliers': [<matplotlib.lines.Line2D at 0x527a570>,\n",
        "  <matplotlib.lines.Line2D at 0x527a950>,\n",
        "  <matplotlib.lines.Line2D at 0x5289490>,\n",
        "  <matplotlib.lines.Line2D at 0x5289850>,\n",
        "  <matplotlib.lines.Line2D at 0x5298390>,\n",
        "  <matplotlib.lines.Line2D at 0x5298750>],\n",
        " 'medians': [<matplotlib.lines.Line2D at 0x527a190>,\n",
        "  <matplotlib.lines.Line2D at 0x52890b0>,\n",
        "  <matplotlib.lines.Line2D at 0x5290f90>],\n",
        " 'whiskers': [<matplotlib.lines.Line2D at 0x30dffb0>,\n",
        "  <matplotlib.lines.Line2D at 0x52721b0>,\n",
        "  <matplotlib.lines.Line2D at 0x527aef0>,\n",
        "  <matplotlib.lines.Line2D at 0x5280110>,\n",
        "  <matplotlib.lines.Line2D at 0x5289df0>,\n",
        "  <matplotlib.lines.Line2D at 0x5289ff0>]}"
       ]
      },
      {
       "metadata": {},
       "output_type": "display_data",
       "png": "[encoded data removed]",
       "text": [
        "<matplotlib.figure.Figure at 0x4100fb0>"
       ]
      }
     ],
     "prompt_number": 5
    },
    {
     "cell_type": "code",
     "collapsed": false,
     "input": [],
     "language": "python",
     "metadata": {},
     "outputs": []
    }
   ],
   "metadata": {}
  }
 ]
}