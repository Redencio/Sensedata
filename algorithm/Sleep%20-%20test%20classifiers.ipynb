{
 "metadata": {
  "name": "",
  "signature": "sha256:3a6f34116bf0f7dfa5c78c794eab4672fca05ba3afbc9e2be57f3aeba6f5fd75"
 },
 "nbformat": 3,
 "nbformat_minor": 0,
 "worksheets": [
  {
   "cells": [
    {
     "cell_type": "code",
     "collapsed": false,
     "input": [
      "#Auto reloading everything imported with %aimport\n",
      "%load_ext autoreload\n",
      "%autoreload 1\n",
      "#For scientific computing\n",
      "from pylab import *\n",
      "import numpy as np\n",
      "import scipy as sp\n",
      "import pandas as pd\n",
      "from pandas import Series, DataFrame\n",
      "#To read data files\n",
      "import json \n",
      "import gzip\n",
      "%aimport reader\n",
      "from datetime import datetime, date, time, timedelta\n",
      "from scipy import stats\n",
      "from math import exp, sqrt, pow, log, erf\n",
      "from mpl_toolkits.mplot3d.axes3d import Axes3D\n",
      "import matplotlib.pyplot as plt\n",
      "#import sklearn\n",
      "from sklearn import datasets\n",
      "import warnings\n",
      "warnings.filterwarnings('default')"
     ],
     "language": "python",
     "metadata": {},
     "outputs": [],
     "prompt_number": 1
    },
    {
     "cell_type": "code",
     "collapsed": false,
     "input": [
      "#filename = '9633_11_12-27_12_13'\n",
      "#filename = 'pim_I9300_28-9-3_10_13'\n",
      "#filename = 'freek_26-10-3_12_13'\n",
      "#filename = 'berend_24_9-6_10_13'\n",
      "#filename = 'freek_27-9-8_10_13'\n",
      "#filename = 'jp_25-9-9_10_13'\n",
      "#filename = '9683_14_12-28_12_13'\n",
      "#filename = '9802_12_29-01_15_14' # wrong annotation\n",
      "filename = '9647_11_12-26_12_13' # wrong annotation\n",
      "#filename = 'ahmy_12_08-01_13_14'\n",
      "#filename = 'jp_25-9-9_10_13_joris'\n",
      "#filename = 'sfs4_23_04-03_05'\n",
      "## in room group\n",
      "# for this group change the results post fix to device in room\n",
      "#filename = '9663_13_12-28_12_13'\n",
      "#filename = '9629_11_12-20_12_13'\n",
      "#filename = 'denise_24_9-12_10_13'\n",
      "sleep_version = 'sleepTime_v1.6.1'\n",
      "sleep_run_time = '14-04-28-17:42:39' \n",
      "span_size = 5"
     ],
     "language": "python",
     "metadata": {},
     "outputs": [],
     "prompt_number": 2
    },
    {
     "cell_type": "code",
     "collapsed": false,
     "input": [
      "%cd /home/ted/Pworkspace/shooting-range/\n",
      "data_filename = 'data/sleep/'+filename+'_edit.json.gz'\n",
      "myReader = reader.Reader(gzip.open(data_filename))\n",
      "data = myReader.pandas(includeSensors=['noise_sensor', 'accelerometer', 'proximity', 'screen activity', 'audio_spectrum', 'light', 'battery sensor'])"
     ],
     "language": "python",
     "metadata": {},
     "outputs": [
      {
       "output_type": "stream",
       "stream": "stdout",
       "text": [
        "/home/ted/Pworkspace/shooting-range\n"
       ]
      }
     ],
     "prompt_number": 3
    },
    {
     "cell_type": "code",
     "collapsed": false,
     "input": [
      "anno_file = 'data/sleep/'+filename+'.csv'\n",
      "annotation = pd.read_csv(anno_file)\n",
      "#results_file = 'results/sleep/'+sleep_version+'/'+sleep_run_time+'/raw/'+filename+'_results_DEVICE_IN_ROOM.csv'\n",
      "#results_file = 'results/sleep/'+sleep_version+'/'+sleep_run_time+'/raw/'+filename+'_results_DEVICE_ON_BODY.csv'\n",
      "#sleep_results = pd.read_csv(results_file)"
     ],
     "language": "python",
     "metadata": {},
     "outputs": [],
     "prompt_number": 4
    },
    {
     "cell_type": "code",
     "collapsed": false,
     "input": [
      "data_filename = filename+'_edit_results.json.gz'\n",
      "resultsReader = reader.Reader(gzip.open(data_filename))\n",
      "real_time_results = resultsReader.pandas(includeSensors=['sleep_time'])\n",
      "real_time_results = real_time_results[['sleep_time_sleep']].resample(\"1 min\").fillna(method='ffill')"
     ],
     "language": "python",
     "metadata": {},
     "outputs": [],
     "prompt_number": 5
    },
    {
     "cell_type": "code",
     "collapsed": false,
     "input": [
      "def compute_rlh(x):    \n",
      "    return float(mean(x[0:end_threshold])/mean(x[end_threshold:end_bin]))\n",
      "#calculate the rhl features\n",
      "now = datetime.now()\n",
      "low_threshold = 300\n",
      "max_freq = 600\n",
      "old_structure = True\n",
      "if old_structure:\n",
      "    low_band = data[['audio_spectrum_{}Hz'.format(1*10)]].resample(\"1 min\").dropna().values\n",
      "    high_band = data[['audio_spectrum_{}Hz'.format(low_threshold)]].resample(\"1 min\").dropna().values\n",
      "    index = data[['audio_spectrum_{}Hz'.format(1*10)]].resample(\"1 min\").dropna().index\n",
      "    low_cnt = 1.0\n",
      "    high_cnt = 1.0\n",
      "    for i in range(2,101):\n",
      "        if i*10 < low_threshold:\n",
      "            low_cnt += 1.0\n",
      "            low_band += data[['audio_spectrum_{}Hz'.format(i*10)]].resample(\"1 min\").dropna().values\n",
      "        if i*10 > low_threshold and i*10 <= max_freq:\n",
      "            high_cnt += 1.0\n",
      "            high_band += data[['audio_spectrum_{}Hz'.format(i*10)]].resample(\"1 min\").dropna().values        \n",
      "    low_band /= low_cnt\n",
      "    high_band /= high_cnt\n",
      "    rlh =  DataFrame(low_band/high_band, index=index, columns=['rlh'])\n",
      "    rlh = pd.ewma(rlh, span=span_size)\n",
      "else:\n",
      "    bandwidth = data[['audio_spectrum_bandwidth']].mean()    \n",
      "    end_threshold = int(low_threshold/bandwidth)\n",
      "    end_bin = int(max_freq/bandwidth)\n",
      "    spectrum = data[['audio_spectrum_spectrum']].dropna()\n",
      "    index = spectrum.index\n",
      "    sp = spectrum.apply(sum, axis=1)\n",
      "    rlh = DataFrame(sp.apply(compute_rlh), index=index, columns=['rlh'])\n",
      "    rlh = pd.ewma(rlh, span=span_size)"
     ],
     "language": "python",
     "metadata": {},
     "outputs": [],
     "prompt_number": 6
    },
    {
     "cell_type": "code",
     "collapsed": false,
     "input": [
      "loudness = pd.ewma(data[['noise_sensor']].resample(\"1 min\"), span=span_size).fillna(method='ffill')\n",
      "acc_sleep = pd.ewmvar(data[['accelerometer_x-axis', 'accelerometer_y-axis', 'accelerometer_z-axis']].resample(\"1 min\"), span=span_size).fillna(method='ffill')\n",
      "noise_var = pd.ewmvar(data[['noise_sensor']].resample(\"1 min\"), span=span_size).fillna(method='ffill')\n",
      "screen_act = pd.ewma(data[['screen activity_screen']].replace('off', 1.5).replace('on', 2).resample(\"1 min\"), span=span_size).fillna(method='ffill')\n",
      "proximity = pd.ewma( data[['proximity']].resample(\"1 min\"), span=span_size).fillna(method='ffill')\n",
      "light = pd.ewma( data[['light_lux']].resample(\"1 min\"), span=span_size).fillna(method='ffill')\n",
      "light_var = pd.ewmvar(data[['light_lux']].resample(\"1 min\"), span=span_size).fillna(method='ffill')\n",
      "battery_level = pd.ewma( data[['battery sensor_level']].dropna().astype('int').resample(\"1 min\"), span=span_size).fillna(method='ffill')\n",
      "threshold_night = rlh.between_time(\"2:00\", \"6:00\").quantile(.50)['rlh']\n",
      "threshold_day = rlh.between_time(\"14:00\", \"18:00\").quantile(.50)['rlh']\n",
      "env_noise_prop = ((rlh-threshold_day)/(threshold_night-threshold_day))\n",
      "#battery_status = pd.ewma( data[['battery sensor_status']].resample(\"1 min\"), span=span_size).fillna(method='ffill')\n",
      "time = DataFrame(loudness.index.hour+(loudness.index.minute/60.), index=loudness.index, columns=['time'])\n",
      "loudness.columns  = [\"loudness\"]\n",
      "noise_var.columns = [\"noise_variance\"]\n",
      "light_var.columns = [\"light_var\"]\n",
      "features = acc_sleep\n",
      "features = features.join(loudness, how='outer')\n",
      "features = features.join(noise_var, how='outer')\n",
      "features = features.join(screen_act, how='outer')\n",
      "#features = features.join(proximity, how='outer')\n",
      "#features = features.join(rlh, how='outer')\n",
      "features = features.join(env_noise_prop, how='outer')\n",
      "#features = features.join(light, how='outer')\n",
      "#features = features.join(battery_level, how='outer')\n",
      "#features = features.join(light_var, how='outer')\n",
      "features = features.join(time, how='outer')\n",
      "features = features.resample(\"1 min\").fillna(method='ffill').dropna()\n",
      "#features = ((features-features.mean())/features.std())\n"
     ],
     "language": "python",
     "metadata": {},
     "outputs": [],
     "prompt_number": 116
    },
    {
     "cell_type": "code",
     "collapsed": false,
     "input": [
      "before_sleep = timedelta(hours=9)\n",
      "after_sleep = timedelta(hours=9)\n",
      "gap = False\n",
      "use_before_sleep = False\n",
      "for i in range(0,annotation['to sleep'].size):   \n",
      "    to = datetime.strptime(annotation['to sleep'][i], '%m/%d/%Y %H:%M:%S')\n",
      "    out = datetime.strptime(annotation['woke up'][i], '%m/%d/%Y %H:%M:%S')\n",
      "    if i < annotation['to sleep'].size-1:\n",
      "        next_to = datetime.strptime(annotation['to sleep'][i+1], '%m/%d/%Y %H:%M:%S')        \n",
      "    else:\n",
      "        next_to = out+after_sleep\n",
      "    if next_to-out > timedelta(days=1):\n",
      "        next_to = out+after_sleep\n",
      "        gap = True        \n",
      "    else:\n",
      "        gap = False\n",
      "    if(i == 0):\n",
      "        index = pd.date_range(to, out, freq='min')\n",
      "        awake_index = pd.date_range(to-timedelta(hours=9), to-timedelta(minutes=1), freq='min')\n",
      "    else:\n",
      "        index = index + pd.date_range(to, out, freq='min')\n",
      "    if(use_before_sleep):    \n",
      "        awake_index = awake_index + pd.date_range(to-before_sleep, to-timedelta(minutes=1), freq='min')        \n",
      "    awake_index = awake_index + pd.date_range(out+timedelta(minutes=1), next_to-timedelta(minutes=1), freq='min')\n",
      "    use_before_sleep = gap == True\n",
      "    \n",
      "sleep_target = DataFrame(np.ones(len(index)), index=index, columns=['sleep_target'])\n",
      "awake_target = DataFrame(np.zeros(len(awake_index)), index=awake_index, columns=['awake_target'])\n",
      "mix_target = sleep_target.join(awake_target, how='outer')\n",
      "mix_target = DataFrame((mix_target['sleep_target'].fillna(value=0)+mix_target['awake_target'].fillna(value=1))/2, index=mix_target.index, columns=['target'])\n",
      "#print sleep_target.merge(awake_target, how='outer').index\n",
      "features = features.join(mix_target).dropna()\n",
      "target = DataFrame(features['target'], columns=['target'])\n",
      "del features['target']"
     ],
     "language": "python",
     "metadata": {},
     "outputs": [],
     "prompt_number": 117
    },
    {
     "cell_type": "code",
     "collapsed": false,
     "input": [
      "# select days for learning\n",
      "#start_date = datetime.strptime(\"12-12-2013 22:00\",'%m-%d-%Y %H:%M')\n",
      "#end_date = datetime.strptime(\"12-13-2013 12:00\",'%m-%d-%Y %H:%M')\n",
      "training_days = 2\n",
      "use_fixed_times = True\n",
      "use_nightly_sleep = True\n",
      "start_sleep_time = \"2:00\"\n",
      "end_sleep_time = \"6:00\"\n",
      "start_awake_time = \"14:00\"\n",
      "end_awake_time = \"18:00\"\n",
      "night_start = \"22:00\"\n",
      "night_end = \"12:00\"\n",
      "start_date = sleep_target['sleep_target'].first_valid_index()-(timedelta(hours=4))\n",
      "end_date = start_date+timedelta(days=training_days)\n",
      "if use_fixed_times:\n",
      "    learning_set = DataFrame(concatenate((features[start_date:end_date].between_time(start_sleep_time, end_sleep_time).values,features[start_date:end_date].between_time(start_awake_time, end_awake_time).values)))    \n",
      "    learning_target = Series(concatenate((target['target'][start_date:end_date].between_time(start_sleep_time, end_sleep_time).replace(0,1).values,target['target'][start_date:end_date].between_time(start_awake_time, end_awake_time).replace(1,0).values))   )\n",
      "else:\n",
      "    learning_set = features[start_date:end_date]\n",
      "    learning_target = target['target'][start_date:end_date]\n",
      "if use_nightly_sleep:\n",
      "    test_set = features[end_date:].between_time(night_start, night_end)\n",
      "    test_target = target['target'][end_date:].between_time(night_start, night_end)\n",
      "    test_aim = real_time_results[end_date:].between_time(night_start, night_end)\n",
      "else:\n",
      "    test_set = features[end_date:]\n",
      "    test_target = target['target'][end_date:]\n",
      "    test_aim = real_time_results[end_date:]"
     ],
     "language": "python",
     "metadata": {},
     "outputs": [],
     "prompt_number": 118
    },
    {
     "cell_type": "code",
     "collapsed": false,
     "input": [
      "def classify(clf, name):\n",
      "    clf.fit(learning_set, learning_target)\n",
      "    pred = clf.predict(test_set)\n",
      "    score = float(float((test_target == pred).sum())/float(len(test_target)))*100\n",
      "    print(\"{} classification score: {}%\".format(name,score))\n",
      "    return pred"
     ],
     "language": "python",
     "metadata": {},
     "outputs": [],
     "prompt_number": 119
    },
    {
     "cell_type": "code",
     "collapsed": false,
     "input": [
      "test_aim_target = test_aim.join(test_target).dropna()\n",
      "score = float(float(((test_aim_target['sleep_time_sleep']>0.9) == test_aim_target['target']).sum())/float(test_aim_target['target'].count()))*100\n",
      "print(\"AIM classification score: {}%\".format(score))"
     ],
     "language": "python",
     "metadata": {},
     "outputs": [
      {
       "output_type": "stream",
       "stream": "stdout",
       "text": [
        "AIM classification score: 60.4340071344%\n"
       ]
      }
     ],
     "prompt_number": 120
    },
    {
     "cell_type": "code",
     "collapsed": false,
     "input": [
      "from sklearn.naive_bayes import GaussianNB\n",
      "pred = classify(GaussianNB(), \"GassianNB\")"
     ],
     "language": "python",
     "metadata": {},
     "outputs": [
      {
       "output_type": "stream",
       "stream": "stdout",
       "text": [
        "GassianNB classification score: 75.0495441934%\n"
       ]
      }
     ],
     "prompt_number": 121
    },
    {
     "cell_type": "code",
     "collapsed": false,
     "input": [
      "from sklearn.neighbors import KNeighborsClassifier\n",
      "clf = KNeighborsClassifier(algorithm='auto', leaf_size=30, metric='minkowski',n_neighbors=2, p=2, weights='uniform')\n",
      "pred = classify(clf, \"KNN\")"
     ],
     "language": "python",
     "metadata": {},
     "outputs": [
      {
       "output_type": "stream",
       "stream": "stdout",
       "text": [
        "KNN classification score: 87.7923107412%\n"
       ]
      }
     ],
     "prompt_number": 122
    },
    {
     "cell_type": "code",
     "collapsed": false,
     "input": [
      "from sklearn import linear_model\n",
      "clf = linear_model.LogisticRegression(C=100000.0, class_weight=None, dual=False,fit_intercept=True, intercept_scaling=1, penalty='l2',random_state=None, tol=0.0001)\n",
      "pred = classify(clf, \"LogisticRegression\")"
     ],
     "language": "python",
     "metadata": {},
     "outputs": [
      {
       "output_type": "stream",
       "stream": "stdout",
       "text": [
        "LogisticRegression classification score: 86.1375346809%\n"
       ]
      }
     ],
     "prompt_number": 123
    },
    {
     "cell_type": "code",
     "collapsed": false,
     "input": [
      "# from sklearn.linear_model import SGDClassifier\n",
      "# clf = SGDClassifier(alpha=0.0001, class_weight=None, epsilon=0.1, eta0=0.0,\n",
      "#        fit_intercept=True, l1_ratio=0.15, learning_rate='optimal',\n",
      "#        loss='hinge', n_iter=5, n_jobs=1, penalty='l2', power_t=0.5,\n",
      "#        random_state=None, rho=None, shuffle=False, verbose=0,\n",
      "#        warm_start=False)\n",
      "# pred = classify(clf, \"SGradientDescent\")"
     ],
     "language": "python",
     "metadata": {},
     "outputs": [],
     "prompt_number": 124
    },
    {
     "cell_type": "code",
     "collapsed": false,
     "input": [
      "#clf = sklearn.svm.LinearSVC(penalty='l2', loss='l2', dual=True, tol=0.0001, C=1.0, multi_class='ovr', fit_intercept=True, intercept_scaling=1, class_weight=None, verbose=0, random_state=None)\n",
      "#classify(clf, \"Linear SVM\")"
     ],
     "language": "python",
     "metadata": {},
     "outputs": [],
     "prompt_number": 125
    },
    {
     "cell_type": "code",
     "collapsed": false,
     "input": [
      "#from sklearn.linear_model import Perceptron\n",
      "#clf = Perceptron(penalty=None, alpha=0.10001, fit_intercept=False, n_iter=5, shuffle=False, verbose=0, eta0=1.0, n_jobs=1, random_state=0, class_weight=None, warm_start=False, seed=None)\n",
      "#pred = classify(clf, \"Perceptron\")"
     ],
     "language": "python",
     "metadata": {},
     "outputs": [],
     "prompt_number": 126
    },
    {
     "cell_type": "code",
     "collapsed": false,
     "input": [
      "# from sklearn.naive_bayes import MultinomialNB \n",
      "# clf = MultinomialNB(alpha=1.0, fit_prior=True, class_prior=None)\n",
      "# pred = classify(clf, \"MultinomialNB\")"
     ],
     "language": "python",
     "metadata": {},
     "outputs": [],
     "prompt_number": 127
    },
    {
     "cell_type": "code",
     "collapsed": false,
     "input": [
      "# from sklearn.linear_model import PassiveAggressiveClassifier\n",
      "# clf = PassiveAggressiveClassifier(C=.1, fit_intercept=False, n_iter=5, shuffle=False, verbose=0, loss='squared_hinge', n_jobs=1, random_state=None, warm_start=False)\n",
      "# pred = classify(clf, \"PassiveAggressiveClassifier\")"
     ],
     "language": "python",
     "metadata": {},
     "outputs": [],
     "prompt_number": 128
    },
    {
     "cell_type": "code",
     "collapsed": false,
     "input": [
      "# to slow!\n",
      "from sklearn import svm\n",
      "clf = svm.SVC(C=1.0, cache_size=200, class_weight=None, coef0=0.0, degree=3, gamma=0.0,kernel='rbf', max_iter=-1, probability=False, random_state=None,\n",
      "  shrinking=True, tol=0.001, verbose=False)\n",
      "pred = classify(clf, \"RBF SVC\")\n"
     ],
     "language": "python",
     "metadata": {},
     "outputs": [
      {
       "output_type": "stream",
       "stream": "stdout",
       "text": [
        "RBF SVC classification score: 85.7510899723%\n"
       ]
      }
     ],
     "prompt_number": 129
    },
    {
     "cell_type": "code",
     "collapsed": false,
     "input": [
      "# plot scores\n",
      "plot(test_set.index, pred, 'r.')\n",
      "#plot(test_set.index, pred*10, 'r+')\n",
      "plot(test_set.index,test_target*2, 'g.')\n",
      "#plot(test_aim_target.index, test_aim_target['sleep_time_sleep']*10.0, 'b')"
     ],
     "language": "python",
     "metadata": {},
     "outputs": [
      {
       "output_type": "stream",
       "stream": "stderr",
       "text": [
        "/home/ted/Pworkspace/shooting-range/venv/lib/python2.7/matplotlib/backends/backend_gtk.py:250: Warning: Source ID 734 was not found when attempting to remove it\n",
        "  gobject.source_remove(self._idle_event_id)\n"
       ]
      },
      {
       "metadata": {},
       "output_type": "pyout",
       "prompt_number": 46,
       "text": [
        "[<matplotlib.lines.Line2D at 0xfe20990>]"
       ]
      }
     ],
     "prompt_number": 46
    },
    {
     "cell_type": "code",
     "collapsed": false,
     "input": [
      "#plot NaitiveAIM results\n",
      "for i in range(0,sleep_results[' start_date'].size):\n",
      "    to = datetime.strptime(sleep_results[' start_date'][i], '%Y-%m-%d %H:%M:%S')\n",
      "    out = datetime.strptime(sleep_results[' end_date'][i], '%Y-%m-%d %H:%M:%S')       \n",
      "    plot([to, to],[0, 1], 'm-', lw=2)\n",
      "    plot([out, out],[0, 1], 'm-',lw=2)"
     ],
     "language": "python",
     "metadata": {},
     "outputs": [
      {
       "ename": "NameError",
       "evalue": "name 'sleep_results' is not defined",
       "output_type": "pyerr",
       "traceback": [
        "\u001b[1;31m---------------------------------------------------------------------------\u001b[0m\n\u001b[1;31mNameError\u001b[0m                                 Traceback (most recent call last)",
        "\u001b[1;32m<ipython-input-23-e463572bf5bf>\u001b[0m in \u001b[0;36m<module>\u001b[1;34m()\u001b[0m\n\u001b[0;32m      1\u001b[0m \u001b[1;31m#plot NaitiveAIM results\u001b[0m\u001b[1;33m\u001b[0m\u001b[1;33m\u001b[0m\u001b[0m\n\u001b[1;32m----> 2\u001b[1;33m \u001b[1;32mfor\u001b[0m \u001b[0mi\u001b[0m \u001b[1;32min\u001b[0m \u001b[0mrange\u001b[0m\u001b[1;33m(\u001b[0m\u001b[1;36m1\u001b[0m\u001b[1;33m,\u001b[0m\u001b[0msleep_results\u001b[0m\u001b[1;33m[\u001b[0m\u001b[1;34m' start_date'\u001b[0m\u001b[1;33m]\u001b[0m\u001b[1;33m.\u001b[0m\u001b[0msize\u001b[0m\u001b[1;33m)\u001b[0m\u001b[1;33m:\u001b[0m\u001b[1;33m\u001b[0m\u001b[0m\n\u001b[0m\u001b[0;32m      3\u001b[0m     \u001b[0mto\u001b[0m \u001b[1;33m=\u001b[0m \u001b[0mdatetime\u001b[0m\u001b[1;33m.\u001b[0m\u001b[0mstrptime\u001b[0m\u001b[1;33m(\u001b[0m\u001b[0msleep_results\u001b[0m\u001b[1;33m[\u001b[0m\u001b[1;34m' start_date'\u001b[0m\u001b[1;33m]\u001b[0m\u001b[1;33m[\u001b[0m\u001b[0mi\u001b[0m\u001b[1;33m]\u001b[0m\u001b[1;33m,\u001b[0m \u001b[1;34m'%Y-%m-%d %H:%M:%S'\u001b[0m\u001b[1;33m)\u001b[0m\u001b[1;33m\u001b[0m\u001b[0m\n\u001b[0;32m      4\u001b[0m     \u001b[0mout\u001b[0m \u001b[1;33m=\u001b[0m \u001b[0mdatetime\u001b[0m\u001b[1;33m.\u001b[0m\u001b[0mstrptime\u001b[0m\u001b[1;33m(\u001b[0m\u001b[0msleep_results\u001b[0m\u001b[1;33m[\u001b[0m\u001b[1;34m' end_date'\u001b[0m\u001b[1;33m]\u001b[0m\u001b[1;33m[\u001b[0m\u001b[0mi\u001b[0m\u001b[1;33m]\u001b[0m\u001b[1;33m,\u001b[0m \u001b[1;34m'%Y-%m-%d %H:%M:%S'\u001b[0m\u001b[1;33m)\u001b[0m\u001b[1;33m\u001b[0m\u001b[0m\n\u001b[0;32m      5\u001b[0m     \u001b[0mplot\u001b[0m\u001b[1;33m(\u001b[0m\u001b[1;33m[\u001b[0m\u001b[0mto\u001b[0m\u001b[1;33m,\u001b[0m \u001b[0mto\u001b[0m\u001b[1;33m]\u001b[0m\u001b[1;33m,\u001b[0m\u001b[1;33m[\u001b[0m\u001b[1;36m0\u001b[0m\u001b[1;33m,\u001b[0m \u001b[1;36m1\u001b[0m\u001b[1;33m]\u001b[0m\u001b[1;33m,\u001b[0m \u001b[1;34m'm-'\u001b[0m\u001b[1;33m,\u001b[0m \u001b[0mlw\u001b[0m\u001b[1;33m=\u001b[0m\u001b[1;36m2\u001b[0m\u001b[1;33m)\u001b[0m\u001b[1;33m\u001b[0m\u001b[0m\n",
        "\u001b[1;31mNameError\u001b[0m: name 'sleep_results' is not defined"
       ]
      }
     ],
     "prompt_number": 23
    },
    {
     "cell_type": "code",
     "collapsed": false,
     "input": [
      "# plotnormalized features\n",
      "#((features-features.mean())/features.std()).plot()"
     ],
     "language": "python",
     "metadata": {},
     "outputs": [],
     "prompt_number": 37
    },
    {
     "cell_type": "code",
     "collapsed": false,
     "input": [
      "# plot annotation\n",
      "hold(True)\n",
      "to_bed = []\n",
      "out_bed = []\n",
      "for i in range(0,annotation['to bed'].size):   \n",
      "    to = datetime.strptime(annotation['to sleep'][i], '%m/%d/%Y %H:%M:%S')\n",
      "    out = datetime.strptime(annotation['woke up'][i], '%m/%d/%Y %H:%M:%S')\n",
      "    to_bed.append(to.hour+(to.minute/60.0))       \n",
      "    out_bed.append(out.hour+(out.minute/60.0))\n",
      "    print to, out    \n",
      "    #df = DataFrame([1, 1], index=[to, out], columns=['value'])\n",
      "    #plot(df.index, df[['value']], lw=10)\n",
      "    plot([to, to],[0, 60], 'k-', lw=2)\n",
      "    plot([out, out],[0, 60], 'k-',lw=2)\n",
      "print (\"hours std to bed {} out bed {}\".format(std(to_bed), std(out_bed)))\n",
      "#TODO 23:00 to 0:00 is a high variance, bring together?"
     ],
     "language": "python",
     "metadata": {},
     "outputs": [
      {
       "output_type": "stream",
       "stream": "stdout",
       "text": [
        "2013-12-11 23:35:00 2013-12-12 07:00:00\n",
        "2013-12-13 00:30:00 2013-12-13 09:10:00\n",
        "2013-12-14 00:50:00 2013-12-14 09:15:00\n",
        "2013-12-15 00:55:00 2013-12-15 09:05:00\n",
        "2013-12-15 23:45:00 2013-12-16 07:00:00\n",
        "2013-12-16 23:51:00 2013-12-17 07:00:00\n",
        "2013-12-17 23:39:00 2013-12-18 07:00:00\n",
        "2013-12-19 00:00:00 2013-12-19 07:00:00\n",
        "2013-12-20 00:26:00 2013-12-20 08:00:00\n",
        "2013-12-21 00:45:00 2013-12-21 07:30:00\n",
        "2013-12-22 01:12:00 2013-12-22 08:20:00\n",
        "2013-12-22 23:59:00 2013-12-23 07:00:00\n",
        "2013-12-24 01:11:00 2013-12-24 08:20:00\n",
        "2013-12-24 23:05:00 2013-12-25 07:00:00\n",
        "hours std to bed 11.349041048 out bed 0.877325222757\n"
       ]
      }
     ],
     "prompt_number": 47
    },
    {
     "cell_type": "code",
     "collapsed": false,
     "input": [
      "#battery_level = pd.ewma( data[['battery sensor_level']].resample(\"1 min\"), span=span_size).fillna(method='ffill')\n",
      "data[['battery sensor_level']].fillna(method='ffill').dropna().astype('int').values"
     ],
     "language": "python",
     "metadata": {},
     "outputs": []
    },
    {
     "cell_type": "code",
     "collapsed": false,
     "input": [
      "figure()\n",
      "#plot(features.index, features)\n",
      "plot(test_aim_target.index, test_aim_target['sleep_time_sleep']*10.0, 'b')"
     ],
     "language": "python",
     "metadata": {},
     "outputs": [
      {
       "metadata": {},
       "output_type": "pyout",
       "prompt_number": 281,
       "text": [
        "[<matplotlib.lines.Line2D at 0xe765490>]"
       ]
      }
     ],
     "prompt_number": 281
    },
    {
     "cell_type": "code",
     "collapsed": false,
     "input": [],
     "language": "python",
     "metadata": {},
     "outputs": []
    }
   ],
   "metadata": {}
  }
 ]
}